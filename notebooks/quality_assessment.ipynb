{
 "cells": [
  {
   "cell_type": "markdown",
   "metadata": {},
   "source": [
    "Import necessary libraries"
   ]
  },
  {
   "cell_type": "code",
   "execution_count": 1,
   "metadata": {},
   "outputs": [],
   "source": [
    "import requests\n",
    "import json"
   ]
  },
  {
   "cell_type": "code",
   "execution_count": 2,
   "metadata": {},
   "outputs": [],
   "source": [
    "# the below url is where our llama server is hosted\n",
    "url = \"http://127.0.0.1:8000/generate/\"\n",
    "\n",
    "\n",
    "# Define the data payload\n",
    "data = {\n",
    "    \"impression\": [\n",
    "        {\"role\": \"system\", \"content\": \"You are an AI assistant whose role is to listen to the user\"},\n",
    "        {\"role\": \"user\", \"content\": \"Write a poem in 50 words about sun\" },\n",
    "    ]}\n",
    "\n",
    "# Send the POST request\n",
    "response = requests.post(url, headers={\"Content-Type\": \"application/json\"}, data=json.dumps(data))\n"
   ]
  },
  {
   "cell_type": "code",
   "execution_count": 3,
   "metadata": {},
   "outputs": [
    {
     "name": "stdout",
     "output_type": "stream",
     "text": [
      "200\n",
      "{'generated_text': 'Golden hues upon the sky,\\nThe sun rises high and high,\\nWarming the earth with gentle might,\\nBringing life to all in sight.\\nIts rays dance upon the sea,\\nA beautiful sight for you and me,\\nA symbol of hope and light,\\nThe sun shines bright, a wondrous sight.'}\n"
     ]
    }
   ],
   "source": [
    "print(response.status_code)\n",
    "print(response.json())"
   ]
  },
  {
   "cell_type": "markdown",
   "metadata": {},
   "source": [
    "Now define evaluation prompt"
   ]
  },
  {
   "cell_type": "code",
   "execution_count": 23,
   "metadata": {},
   "outputs": [],
   "source": [
    "def prompt_qa(impression):\n",
    "  return [{\n",
    "    \"role\": \"system\", \"content\": \"You are a radiologist whose job is to do quality assessment of the ground truth of reports\"},{\n",
    "    \"role\": \"user\", \"content\": \"\"\"You are a radiologist expert. Your task is to do quality assessment of ground truth of radiological reports. You will be given a radiological report and a dictionary of binary ground truth for findings. If there is a mismatch for any findings, you return that finding, else the output should be \"na\". \n",
    "    1. Do not use any python code or give any output related to python code.\n",
    "    2. You have to understand the report and follow step wise analysis.\n",
    "    3. Give only dictionary as an output, no other text.\n",
    "    Here is the radiological report with the output.\n",
    "    Radiological report: Right lung volume loss with mild elevation right hemidiaphragm and rightward shift of heart and mediastinum. Spiculated 1.6 x 1.8 cm noncalcified nodule peripheral aspect right mid lung zone. Mild scarring/subsegmental volume loss right lung base. Left lung is clear. Possible small left pleural effusion. No right pleural abnormality. Heart size and pulmonary venous pressure are normal. Suspect right retrohilar mass, measuring approximately 4.4 cm in diameter, with possible bronchial narrowing. Left hilum and mediastinal structures are otherwise normal. Mild dextrocurvature of thoracic spine.\n",
    "    Ground Truth: {\"Cardiomegaly\": 0, \"Cavity\": 0, \"Consolidation\": 0, \"Fibrosis\": 0, \"Hilar Prominence\": 1, \"Nodule\": 0, \"Opacity\": 0, \"Pleural Effusion\": 1, \"Raised/Tented Diaphragm\": 0, \"Scoliosis\": 1, \"Atelectasis\": 1, \"Rib Fracture\": 0, \"Pneumothorax\": 0}\n",
    "    Chain of thought: Since nodule is present in the radiological report but ground truth mentions that there is no nodule. So, the output should be nodule\n",
    "    Output should be: {\"Nodule\"}\n",
    "    Here is an another example:\n",
    "    Radiological report: Right lung volume loss with mild elevation right hemidiaphragm and rightward shift of heart and mediastinum. Spiculated 1.6 x 1.8 cm noncalcified nodule peripheral aspect right mid lung zone. Mild scarring/subsegmental volume loss right lung base. Left lung is clear. Possible small left pleural effusion. No right pleural abnormality. Heart size and pulmonary venous pressure are normal. Suspect right retrohilar mass, measuring approximately 4.4 cm in diameter, with possible bronchial narrowing. Left hilum and mediastinal structures are otherwise normal. Mild dextrocurvature of thoracic spine.\n",
    "    Ground Truth: {\"Cardiomegaly\": 1, \"Cavity\": 0, \"Consolidation\": 0, \"Fibrosis\": 0, \"Hilar Prominence\": 1, \"Nodule\": 1, \"Opacity\": 0, \"Pleural Effusion\": 1, \"Raised/Tented Diaphragm\": 0, \"Scoliosis\": 1, \"Atelectasis\": 1, \"Rib Fracture\": 0, \"Pneumothorax\": 0}\n",
    "    Chain of thought: Since there is no cardiomegaly in the radiological report but ground truth mentions that there is cardiomegaly and nodule. So, the output should be cardiomegaly.\n",
    "    Output should be: {\"Cardiomegaly\"}\n",
    "    1. Do not use any python code or give any output related to python code.\n",
    "    2. You have to understand the report and follow step wise analysis.\n",
    "    3. Give only dictionary as an output, no other text. \n",
    "    Now, please read the following radiology report and then analyze the binary findings and provide any discrepencies:\"\"\" + impression + \"\"\"\n",
    "    Please make sure return only dictionary , do not return any other text or explaination\"\"\"},\n",
    "  ]\n"
   ]
  },
  {
   "cell_type": "code",
   "execution_count": 26,
   "metadata": {},
   "outputs": [],
   "source": [
    "text = \"\"\"Radiological report: 4.3 mm calcified granuloma left lung base. Lungs are otherwise clear. No pleural abnormality. Heart size and pulmonary venous pressure are normal. 1.3 x 1.8 cm calcified subaortic lymph node. Hilar and mediastinal structures are otherwise normal. Dextrocurvature of thoracic spine mild degenerative changes.```. Ground truth: {\"Cardiomegaly\": 1, \"Cavity\": 0, \"Consolidation\": 0, \"Fibrosis\": 0, \"Hilar Prominence\": 0, \"Nodule\": 0, \"Opacity\": 0, \"Pleural Effusion\": 0, \"Raised/Tented Diaphragm\": 0, \"Scoliosis\": 1, \"Atelectasis\": 0, \"Rib Fracture\": 0, \"Pneumothorax\": 0}. Output should be:\"\"\""
   ]
  },
  {
   "cell_type": "code",
   "execution_count": 27,
   "metadata": {},
   "outputs": [
    {
     "name": "stdout",
     "output_type": "stream",
     "text": [
      "{\"Cardiomegaly\"}\n"
     ]
    }
   ],
   "source": [
    "try:\n",
    "    prompt = prompt_qa(text)\n",
    "    # print(impressions[i])\n",
    "    response = requests.post(url, headers={\"Content-Type\": \"application/json\"}, data=json.dumps({'impression' : prompt}))\n",
    "    # print(response.json()['generated_text'])\n",
    "    # 'a' for append mode\n",
    "    print(response.json()[\"generated_text\"])\n",
    "except:\n",
    "    print(\"fail\")"
   ]
  },
  {
   "cell_type": "code",
   "execution_count": 32,
   "metadata": {},
   "outputs": [
    {
     "name": "stdout",
     "output_type": "stream",
     "text": [
      "Explaination: \n",
      "The radiological report mentions a 4.3 mm calcified granuloma in the left lung base, which is a type of nodule. However, the ground truth dictionary indicates that there is no nodule. Additionally, the report mentions a 1.3 x 1.8 cm calcified subaortic lymph node, which is also a type of nodule. However, the ground truth dictionary indicates that there is no nodule. Furthermore, the report does not mention cardiomegaly, but the ground truth dictionary indicates that there is cardiomegaly.\n",
      "\n",
      "Output: \n",
      "{\"Cardiomegaly\", \"Nodule\"}\n"
     ]
    }
   ],
   "source": [
    "def prompt_qa(impression, ground_truth):\n",
    "  return [\n",
    "{\n",
    "    \"role\": \"system\", \n",
    "    \"content\": \"You are a radiologist whose job is to do quality assessment of the ground truth of reports.\"\n",
    "},\n",
    "{\n",
    "    \"role\": \"user\",\n",
    "    \"content\": \"\"\"\n",
    "You are a radiologist expert. Your task is to perform a meticulous quality assessment of the binary ground truth associated with radiological reports. I will provide you with a radiology report and a dictionary representing the ground truth for various findings. You will compare the text of the report with the ground truth dictionary to identify any discrepancies between reported findings and the ground truth. Your responses should meet the following requirements:\n",
    "\n",
    "1. **Procedure**:\n",
    "   - Conduct a systematic, step-by-step assessment of each term in the ground truth dictionary, directly referencing and cross-checking phrases or descriptions from the radiological report.\n",
    "   - Carefully analyze context within the report to avoid incorrect interpretations of terms such as \"no evidence of\" or \"mild signs of.\"\n",
    "   - Determine each finding's presence or absence based solely on the evidence provided in the radiological report and indicate discrepancies.\n",
    "2. **Response Structure**: Format output should be an exaplaination and a dictionary output\n",
    "3. **Examples**:\n",
    "   - Example 1:\n",
    "     Radiological report: \"Right lung volume loss with mild elevation right hemidiaphragm and rightward shift of heart and mediastinum. Spiculated 1.6 x 1.8 cm noncalcified nodule peripheral aspect right mid lung zone. Mild scarring/subsegmental volume loss right lung base. Left lung is clear. Possible small left pleural effusion. No right pleural abnormality. Heart size and pulmonary venous pressure are normal. Suspect right retrohilar mass, measuring approximately 4.4 cm in diameter, with possible bronchial narrowing. Left hilum and mediastinal structures are otherwise normal. Mild dextrocurvature of thoracic spine.\"\n",
    "     Ground Truth: {\"Cardiomegaly\": 0, \"Cavity\": 0, \"Consolidation\": 0, \"Fibrosis\": 0, \"Hilar Prominence\": 1, \"Nodule\": 0, \"Opacity\": 0, \"Pleural Effusion\": 1, \"Raised/Tented Diaphragm\": 0, \"Scoliosis\": 1, \"Atelectasis\": 1, \"Rib Fracture\": 0, \"Pneumothorax\": 0}\n",
    "     The output should be:\n",
    "     Explaination: Since non calcified nodule is present in the radiological report but ground truth mentions that there is no nodule. So, there is discrepency. The output should contain nodule.\n",
    "     Output: {\"Nodule\"}\n",
    "   - Example 2:\n",
    "     Radiological report: \"Right lung volume loss with mild elevation right hemidiaphragm and rightward shift of heart and mediastinum. Spiculated 1.6 x 1.8 cm noncalcified nodule peripheral aspect right mid lung zone. Mild scarring/subsegmental volume loss right lung base. Left lung is clear. Possible small left pleural effusion. No right pleural abnormality. Heart size and pulmonary venous pressure are normal. Suspect right retrohilar mass, measuring approximately 4.4 cm in diameter, with possible bronchial narrowing. Left hilum and mediastinal structures are otherwise normal. Mild dextrocurvature of thoracic spine.\"\n",
    "     Ground Truth: {\"Cardiomegaly\": 1, \"Cavity\": 0, \"Consolidation\": 0, \"Fibrosis\": 0, \"Hilar Prominence\": 1, \"Nodule\": 1, \"Opacity\": 0, \"Pleural Effusion\": 1, \"Raised/Tented Diaphragm\": 0, \"Scoliosis\": 1, \"Atelectasis\": 1, \"Rib Fracture\": 0, \"Pneumothorax\": 0}\n",
    "     Explaination:  Since there is no cardiomegaly in the radiological report but ground truth mentions that there is cardiomegaly. So, the output should be cardiomegaly.\n",
    "     Output: {\"Cardiomegaly\"}\n",
    "     \n",
    "Please review the following radiology report and analyze the binary findings, providing the discrepency and output in dictionary format:\n",
    "Radiological report: \"\"\" + impression + \"\"\"\n",
    "Ground Truth: \"\"\" + ground_truth + \"\"\"\n",
    "\"\"\"}]\n",
    "impression = \"\"\"Radiological report: 4.3 mm calcified granuloma left lung base. Lungs are otherwise clear. No pleural abnormality. Heart size and pulmonary venous pressure are normal. 1.3 x 1.8 cm calcified subaortic lymph node. Hilar and mediastinal structures are otherwise normal. Dextrocurvature of thoracic spine mild degenerative changes\"\"\"\n",
    "ground_truth = \"\"\"{\"Cardiomegaly\": 1, \"Cavity\": 0, \"Consolidation\": 0, \"Fibrosis\": 0, \"Hilar Prominence\": 0, \"Nodule\": 0, \"Opacity\": 0, \"Pleural Effusion\": 0, \"Raised/Tented Diaphragm\": 0, \"Scoliosis\": 1, \"Atelectasis\": 0, \"Rib Fracture\": 0, \"Pneumothorax\": 0}\"\"\"\n",
    "try:\n",
    "    prompt = prompt_qa(impression, ground_truth)\n",
    "    # print(impressions[i])\n",
    "    response = requests.post(url, headers={\"Content-Type\": \"application/json\"}, data=json.dumps({'impression' : prompt}))\n",
    "    # print(response.json()['generated_text'])\n",
    "    # 'a' for append mode\n",
    "    print(response.json()[\"generated_text\"])\n",
    "except:\n",
    "    print(\"fail\")"
   ]
  }
 ],
 "metadata": {
  "kernelspec": {
   "display_name": "base",
   "language": "python",
   "name": "python3"
  },
  "language_info": {
   "codemirror_mode": {
    "name": "ipython",
    "version": 3
   },
   "file_extension": ".py",
   "mimetype": "text/x-python",
   "name": "python",
   "nbconvert_exporter": "python",
   "pygments_lexer": "ipython3",
   "version": "3.12.2"
  }
 },
 "nbformat": 4,
 "nbformat_minor": 2
}
